{
 "cells": [
  {
   "attachments": {},
   "cell_type": "markdown",
   "metadata": {},
   "source": [
    "<small><small><i>\n",
    "Introduction to Python for Bioinformatics - available at https://github.com/GunzIvan28/MScMak2024-IntroductionToPython.\n",
    "</i></small></small>"
   ]
  },
  {
   "cell_type": "markdown",
   "metadata": {},
   "source": [
    "## Dictionaries"
   ]
  },
  {
   "cell_type": "markdown",
   "metadata": {},
   "source": [
    "Dictionaries are mappings between keys and items stored in the dictionaries. Unlike lists and tuples, dictionaries are unordered. Alternatively one can think of dictionaries as sets in which something stored against every element of the set. They can be defined as follows:"
   ]
  },
  {
   "cell_type": "markdown",
   "metadata": {},
   "source": [
    "To define a dictionary, equate a variable to { } or dict()"
   ]
  },
  {
   "cell_type": "code",
   "execution_count": null,
   "metadata": {},
   "outputs": [],
   "source": [
    "d = dict() # or equivalently d={}\n",
    "print(type(d))\n",
    "d['abc'] = 3\n",
    "d[4] = \"A string\"\n",
    "print(d)"
   ]
  },
  {
   "cell_type": "markdown",
   "metadata": {},
   "source": [
    "As can be guessed from the output above. Dictionaries can be defined by using the `{ key : value }` syntax. The following dictionary has three elements"
   ]
  },
  {
   "cell_type": "code",
   "execution_count": null,
   "metadata": {},
   "outputs": [],
   "source": [
    "d = { 1: 'One', 2 : 'Two', 100 : 'Hundred'}\n",
    "len(d)"
   ]
  },
  {
   "cell_type": "code",
   "execution_count": null,
   "metadata": {},
   "outputs": [],
   "source": [
    "d.keys()"
   ]
  },
  {
   "cell_type": "code",
   "execution_count": null,
   "metadata": {},
   "outputs": [],
   "source": [
    "d.values()"
   ]
  },
  {
   "cell_type": "markdown",
   "metadata": {},
   "source": [
    "Now you are able to access 'One' by the index value set at 1"
   ]
  },
  {
   "cell_type": "code",
   "execution_count": null,
   "metadata": {},
   "outputs": [],
   "source": [
    "print(d[1])"
   ]
  },
  {
   "cell_type": "markdown",
   "metadata": {},
   "source": [
    "There are a number of alternative ways for specifying a dictionary including as a list of `(key,value)` tuples.\n",
    "To illustrate this we will start with two lists and form a set of tuples from them using the **zip()** function\n",
    "Two lists which are related can be merged to form a dictionary."
   ]
  },
  {
   "cell_type": "code",
   "execution_count": null,
   "metadata": {},
   "outputs": [],
   "source": [
    "names = ['One', 'Two', 'Three', 'Four', 'Five']\n",
    "numbers = [1, 2, 3, 4, 5]\n",
    "[ (name,number) for name,number in zip(names,numbers)] # create (name,number) pairs"
   ]
  },
  {
   "cell_type": "markdown",
   "metadata": {},
   "source": [
    "Now we can create a dictionary that maps the name to the number as follows."
   ]
  },
  {
   "cell_type": "code",
   "execution_count": null,
   "metadata": {},
   "outputs": [],
   "source": [
    "a1 = dict((name,number) for name,number in zip(names,numbers))\n",
    "print(a1)"
   ]
  },
  {
   "cell_type": "markdown",
   "metadata": {},
   "source": [
    "Note that the ordering for this dictionary is not based on the order in which elements are added but on its own ordering (based on hash index ordering). It is best never to assume an ordering when iterating over elements of a dictionary.\n",
    "\n",
    "By using tuples as indexes we make a dictionary behave like a sparse matrix:"
   ]
  },
  {
   "cell_type": "code",
   "execution_count": null,
   "metadata": {},
   "outputs": [],
   "source": [
    "matrix={ (0,1): 3.5, (2,17): 0.1}\n",
    "matrix[2,2] = matrix[0,1] + matrix[2,17]\n",
    "print(matrix)"
   ]
  },
  {
   "cell_type": "markdown",
   "metadata": {},
   "source": [
    "Dictionary can also be built using the loop style definition."
   ]
  },
  {
   "cell_type": "code",
   "execution_count": null,
   "metadata": {},
   "outputs": [],
   "source": [
    "a2 = { name : len(name) for name in names}\n",
    "print(a2)"
   ]
  },
  {
   "cell_type": "markdown",
   "metadata": {},
   "source": [
    "### Built-in Functions"
   ]
  },
  {
   "cell_type": "markdown",
   "metadata": {},
   "source": [
    "The **len()** function and **in** operator have the obvious meaning:"
   ]
  },
  {
   "cell_type": "code",
   "execution_count": null,
   "metadata": {},
   "outputs": [],
   "source": [
    "print(\"a1 has\",len(a1),\"elements\")\n",
    "print(\"One is in a1\",'One' in a1,\"but not Zero\", 'Zero' in a1)"
   ]
  },
  {
   "cell_type": "markdown",
   "metadata": {},
   "source": [
    "**clear( )** function is used to erase all elements."
   ]
  },
  {
   "cell_type": "code",
   "execution_count": null,
   "metadata": {},
   "outputs": [],
   "source": [
    "a2.clear()\n",
    "print(a2)"
   ]
  },
  {
   "cell_type": "markdown",
   "metadata": {},
   "source": [
    "**values( )** function returns a list with all the assigned values in the dictionary. (Acutally not quit a list, but something that we can iterate over just like a list to construct a list, tuple or any other collection):"
   ]
  },
  {
   "cell_type": "code",
   "execution_count": null,
   "metadata": {},
   "outputs": [],
   "source": [
    "[ v for v in a1.values() ]"
   ]
  },
  {
   "cell_type": "markdown",
   "metadata": {},
   "source": [
    "**keys( )** function returns all the index or the keys to which contains the values that it was assigned to."
   ]
  },
  {
   "cell_type": "code",
   "execution_count": null,
   "metadata": {},
   "outputs": [],
   "source": [
    "{ k for k in a1.keys() }"
   ]
  },
  {
   "cell_type": "markdown",
   "metadata": {},
   "source": [
    "**items( )** is returns a list containing both the list but each element in the dictionary is inside a tuple. This is same as the result that was obtained when zip function was used - except that the ordering has been 'shuffled' by the dictionary."
   ]
  },
  {
   "cell_type": "code",
   "execution_count": null,
   "metadata": {},
   "outputs": [],
   "source": [
    "\",  \".join( \"%s = %d\" % (name,val) for name,val in a1.items())"
   ]
  },
  {
   "cell_type": "markdown",
   "metadata": {},
   "source": [
    "**pop( )** function is used to get the remove that particular element and this removed element can be assigned to a new variable. But remember only the value is stored and not the key. Because the is just a index value."
   ]
  },
  {
   "cell_type": "code",
   "execution_count": null,
   "metadata": {},
   "outputs": [],
   "source": [
    "val = a1.pop('Four')\n",
    "print(a1)\n",
    "print(\"Removed\",val)"
   ]
  },
  {
   "cell_type": "markdown",
   "metadata": {},
   "source": [
    "## Exercise 1\n",
    "\n",
    "- Using strings, lists, tuples and dictionaries concepts, find the reverse complement of AAAAATCCCGAGGCGGCTATATAGGGCTCCGGAGGCGTAATATAAAA"
   ]
  },
  {
   "cell_type": "code",
   "execution_count": 31,
   "metadata": {},
   "outputs": [
    {
     "data": {
      "text/plain": [
       "'TTTTATATTACGCCTCCGGAGCCCTATATAGCCGCCTCGGGATTTTT'"
      ]
     },
     "execution_count": 31,
     "metadata": {},
     "output_type": "execute_result"
    }
   ],
   "source": [
    "a = 'AAAAATCCCGAGGCGGCTATATAGGGCTCCGGAGGCGTAATATAAAA'\n",
    "\n",
    "len_a = len(a)\n",
    "\n",
    "b = []\n",
    "\n",
    "for i in range(len_a):\n",
    "    if a[i] == 'A':\n",
    "        b.append('T')\n",
    "    elif a[i] == 'T':\n",
    "        b.append('A')\n",
    "    elif a[i] == 'G':\n",
    "        b.append('C')\n",
    "    else:\n",
    "        b.append('G')\n",
    "        \n",
    "        \n",
    "b = \"\".join(reversed(b))\n",
    "b\n",
    "\n"
   ]
  },
  {
   "cell_type": "code",
   "execution_count": null,
   "metadata": {},
   "outputs": [],
   "source": []
  },
  {
   "cell_type": "code",
   "execution_count": 32,
   "metadata": {},
   "outputs": [
    {
     "name": "stdout",
     "output_type": "stream",
     "text": [
      "TTTTATATTACGCCTCCGGAGCCCTATATAGCCGCCTCGGGATTTTT\n"
     ]
    }
   ],
   "source": [
    "a = 'AAAAATCCCGAGGCGGCTATATAGGGCTCCGGAGGCGTAATATAAAA'\n",
    "b = list(a)\n",
    "d = {'A':'T', 'T':'A', 'G':'C', 'C':'G'}\n",
    "c = [d[base] for base in b]\n",
    "reverseC = \"\".join(c[::-1])\n",
    "print(reverseC)"
   ]
  },
  {
   "cell_type": "code",
   "execution_count": null,
   "metadata": {},
   "outputs": [],
   "source": []
  },
  {
   "cell_type": "markdown",
   "metadata": {},
   "source": [
    "## Exercise 2\n",
    "Given the DNA sequence AAAAATCCCGAGGCGGCTATATAGGGCTCCGGAGGCGTAATATAAAA find the k-mer(3-mer) with the highest frequency"
   ]
  },
  {
   "cell_type": "code",
   "execution_count": 28,
   "metadata": {},
   "outputs": [
    {
     "data": {
      "text/plain": [
       "47"
      ]
     },
     "execution_count": 28,
     "metadata": {},
     "output_type": "execute_result"
    }
   ],
   "source": [
    "dna = \"AAAAATCCCGAGGCGGCTATATAGGGCTCCGGAGGCGTAATATAAAA\"\n",
    "#dna[0:3]\n",
    "#dna[1:4]\n",
    "#dna[2:5]  #recognize the pattern of the sliding k-mers\n",
    "len(dna)"
   ]
  },
  {
   "cell_type": "code",
   "execution_count": null,
   "metadata": {},
<<<<<<< HEAD
<<<<<<< HEAD
=======
=======
>>>>>>> 33bddf899ab5e2f65d4b06206155217b588b1a16
   "outputs": [
    {
     "name": "stdout",
     "output_type": "stream",
     "text": [
      "['AAA', 'AAA', 'AAA', 'AAT', 'ATC', 'TCC', 'CCC', 'CCG', 'CGA', 'GAG', 'AGG', 'GGC', 'GCG', 'CGG', 'GGC', 'GCT', 'CTA', 'TAT', 'ATA', 'TAT', 'ATA', 'TAG', 'AGG', 'GGG', 'GGC', 'GCT', 'CTC', 'TCC', 'CCG', 'CGG', 'GGA', 'GAG', 'AGG', 'GGC', 'GCG', 'CGT', 'GTA', 'TAA', 'AAT', 'ATA', 'TAT', 'ATA', 'TAA', 'AAA', 'AAA']\n",
      "Counter({'AAA': 5, 'GGC': 4, 'ATA': 4, 'AGG': 3, 'TAT': 3, 'AAT': 2, 'TCC': 2, 'CCG': 2, 'GAG': 2, 'GCG': 2, 'CGG': 2, 'GCT': 2, 'TAA': 2, 'ATC': 1, 'CCC': 1, 'CGA': 1, 'CTA': 1, 'TAG': 1, 'GGG': 1, 'CTC': 1, 'GGA': 1, 'CGT': 1, 'GTA': 1})\n",
      "Most frequent kmer in dna: 'AAA' \n",
      "Frequency: 5\n"
     ]
    }
   ],
   "source": [
    "from collections import Counter\n",
    "\n",
    "# Creating list variable where I will store the kmers and counter variable to keep track of my steps in the while loop\n",
    "kmer_list = []\n",
    "counter = 0\n",
    "\n",
    "# Pick out the kmers and store them in a list\n",
    "while counter <= len(dna)-3:\n",
    "    kmer_list.append(dna[counter:counter+3])\n",
    "    counter = counter + 1\n",
    "print(kmer_list)\n",
    "\n",
    "#Creating a counter object (dictionary)\n",
    "kmer_freq_counter = Counter(kmer_list)\n",
    "print(kmer_freq_counter)\n",
    "\n",
    "# Obtaining the highest frequency from my dictionary\n",
    "max_freq = max(kmer_freq_counter.values())\n",
    "\n",
    "# Obtaining the kmer with the highest frequency from the dictionary and storing it in a list\n",
    "most_freq_kmer = [kmer for kmer, freq in kmer_freq_counter.items() if freq == max_freq]\n",
    "\n",
    "print(\"The most frequent kmer in dna is: '%s' \" %most_freq_kmer[0])\n",
    "\n",
    "print(\"It's frequency is: %d\" %kmer_freq_counter[str(most_freq_kmer[0])])\n",
    "\n",
    "    \n"
   ]
  },
  {
   "cell_type": "code",
   "execution_count": null,
   "metadata": {},
<<<<<<< HEAD
>>>>>>> 33bddf8 (Did assignments in books 05, 06 and 07)
=======
>>>>>>> 33bddf899ab5e2f65d4b06206155217b588b1a16
   "outputs": [],
   "source": [
    "#Code\n",
    "step = 0\n",
    "while step <=len(dna)-3:\n",
    "    print(dna[step:step+3])\n",
    "    step = step + 1"
   ]
  },
  {
   "cell_type": "code",
   "execution_count": null,
   "metadata": {},
   "outputs": [],
   "source": [
    "step = 0\n",
    "dna_list=[]\n",
    "while step <=len(dna)-3:\n",
    "    dna_list.append(dna[step:step+3])\n",
    "    step = step + 1"
   ]
  },
  {
   "cell_type": "code",
   "execution_count": null,
   "metadata": {},
   "outputs": [],
   "source": [
    "dna_list"
   ]
  },
  {
   "cell_type": "code",
   "execution_count": null,
   "metadata": {},
   "outputs": [],
   "source": [
    "dna_dict = {}\n",
    "for dna in dna_list:\n",
    "    dna_dict[dna] = dna_list.count(dna)"
   ]
  },
  {
   "cell_type": "code",
   "execution_count": null,
   "metadata": {},
   "outputs": [],
   "source": [
    "dna_dict"
   ]
  },
  {
   "cell_type": "code",
   "execution_count": 26,
   "metadata": {},
   "outputs": [
    {
     "name": "stdout",
     "output_type": "stream",
     "text": [
      "Counter({'A': 3, 'B': 2, 'C': 2})\n",
      "dict_keys(['A', 'B', 'C'])\n",
      "3\n",
      "A\n",
      "3\n"
     ]
    }
   ],
   "source": [
    "from collections import Counter\n",
    "\n",
    "items = [\"A\", \"B\", \"A\", \"C\", \"B\", \"C\", \"A\"]\n",
    "\n",
    "counts = Counter(items)\n",
    "print(counts)\n",
    "print(counts.keys())\n",
    "print(counts[\"A\"])\n",
    "max_count = max(counts.values())\n",
    "\n",
    "most_freq_item = [item for item, freq in counts.items() if freq == max_count]\n",
    "\n",
    "\n",
    "print(most_freq_item[0])\n",
    "print(counts[str(most_freq_item[0])])\n",
    "\n",
    "\n",
    "#tied_items = [item for item, count in counts.items() if count == max_count]\n",
    "\n",
    "#print(\"Items:\", tied_items)\n",
    "#print(\"Frequency:\", max_count)\"\n"
   ]
  }
 ],
 "metadata": {
  "celltoolbar": "Raw Cell Format",
  "kernelspec": {
   "display_name": "Python 3",
   "language": "python",
   "name": "python3"
  },
  "language_info": {
   "codemirror_mode": {
    "name": "ipython",
    "version": 3
   },
   "file_extension": ".py",
   "mimetype": "text/x-python",
   "name": "python",
   "nbconvert_exporter": "python",
   "pygments_lexer": "ipython3",
   "version": "3.13.7"
  }
 },
 "nbformat": 4,
 "nbformat_minor": 4
}
